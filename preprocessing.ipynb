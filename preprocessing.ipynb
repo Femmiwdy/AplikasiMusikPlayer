{
  "nbformat": 4,
  "nbformat_minor": 0,
  "metadata": {
    "colab": {
      "provenance": [],
      "authorship_tag": "ABX9TyOVB8SPi5GtQj3VgAgd7TY/",
      "include_colab_link": true
    },
    "kernelspec": {
      "name": "python3",
      "display_name": "Python 3"
    },
    "language_info": {
      "name": "python"
    }
  },
  "cells": [
    {
      "cell_type": "markdown",
      "metadata": {
        "id": "view-in-github",
        "colab_type": "text"
      },
      "source": [
        "<a href=\"https://colab.research.google.com/github/Femmiwdy/AplikasiMusikPlayer/blob/master/preprocessing.ipynb\" target=\"_parent\"><img src=\"https://colab.research.google.com/assets/colab-badge.svg\" alt=\"Open In Colab\"/></a>"
      ]
    },
    {
      "cell_type": "code",
      "execution_count": 28,
      "metadata": {
        "id": "E-e7ddC5gxaE"
      },
      "outputs": [],
      "source": [
        "import numpy as np\n",
        "import matplotlib.pyplot as plt\n",
        "import pandas as pd"
      ]
    },
    {
      "cell_type": "code",
      "source": [
        "dataset = pd.read_csv('/content/Dataset.csv')\n",
        "X = dataset.iloc[:, :-1].values\n",
        "Y = dataset.iloc[:,-1].values"
      ],
      "metadata": {
        "id": "z1D5gpPNnBVc"
      },
      "execution_count": 29,
      "outputs": []
    },
    {
      "cell_type": "code",
      "source": [
        "print(X)"
      ],
      "metadata": {
        "colab": {
          "base_uri": "https://localhost:8080/"
        },
        "id": "lPReZzBwozze",
        "outputId": "69e26cb8-7682-4216-db23-3ec9cda7d744"
      },
      "execution_count": 30,
      "outputs": [
        {
          "output_type": "stream",
          "name": "stdout",
          "text": [
            "[['Turki' 40.0 72000.0]\n",
            " ['Prancis' 27.0 50000.0]\n",
            " ['Arab' 35.0 55000.0]\n",
            " ['Singapura' 40.0 63000.0]\n",
            " ['Malaysia' 46.0 nan]\n",
            " ['Indonesia' 35.0 60000.0]\n",
            " ['Jepang' nan 52000.0]\n",
            " ['Indonesia' 48.0 79000.0]\n",
            " ['Arab' nan 85000.0]\n",
            " ['Singapura' 38.0 68000.0]]\n"
          ]
        }
      ]
    },
    {
      "cell_type": "code",
      "source": [
        "print(Y)"
      ],
      "metadata": {
        "colab": {
          "base_uri": "https://localhost:8080/"
        },
        "id": "FkKqjZMnpGTl",
        "outputId": "b5989cb5-b941-4672-aaa4-68a990fefefc"
      },
      "execution_count": 31,
      "outputs": [
        {
          "output_type": "stream",
          "name": "stdout",
          "text": [
            "['Yes' 'Yes' 'No' 'No' 'Yes' 'Yes' 'No' 'Yes' 'No' 'Yes']\n"
          ]
        }
      ]
    },
    {
      "cell_type": "code",
      "source": [
        "from sklearn.impute import SimpleImputer\n",
        "imputer = SimpleImputer(missing_values=np.nan, strategy='mean')\n",
        "imputer.fit(X[:,1:3])\n",
        "X[:, 1:3] = imputer.transform(X[:, 1:3])"
      ],
      "metadata": {
        "id": "Egblirh2qI7M"
      },
      "execution_count": 32,
      "outputs": []
    },
    {
      "cell_type": "code",
      "source": [
        "print(X)"
      ],
      "metadata": {
        "id": "8Q58nZWCyJ9D",
        "outputId": "6f9864c0-43f8-4c3c-b274-e2a82f59f184",
        "colab": {
          "base_uri": "https://localhost:8080/"
        }
      },
      "execution_count": 33,
      "outputs": [
        {
          "output_type": "stream",
          "name": "stdout",
          "text": [
            "[['Turki' 40.0 72000.0]\n",
            " ['Prancis' 27.0 50000.0]\n",
            " ['Arab' 35.0 55000.0]\n",
            " ['Singapura' 40.0 63000.0]\n",
            " ['Malaysia' 46.0 64888.88888888889]\n",
            " ['Indonesia' 35.0 60000.0]\n",
            " ['Jepang' 38.625 52000.0]\n",
            " ['Indonesia' 48.0 79000.0]\n",
            " ['Arab' 38.625 85000.0]\n",
            " ['Singapura' 38.0 68000.0]]\n"
          ]
        }
      ]
    },
    {
      "cell_type": "code",
      "source": [
        "from sklearn.compose import ColumnTransformer\n",
        "from sklearn.preprocessing import OneHotEncoder\n",
        "ct = ColumnTransformer(transformers=[('encoder', OneHotEncoder(), [0])], remainder='passthrough')\n",
        "X = np.array(ct.fit_transform(X))"
      ],
      "metadata": {
        "id": "BJzDYSAqBmub"
      },
      "execution_count": 34,
      "outputs": []
    },
    {
      "cell_type": "code",
      "source": [
        "print(X)"
      ],
      "metadata": {
        "colab": {
          "base_uri": "https://localhost:8080/"
        },
        "id": "q6LH4Nm1DcKx",
        "outputId": "342e1254-6b24-4646-91bf-c7ce5dac6f0a"
      },
      "execution_count": 35,
      "outputs": [
        {
          "output_type": "stream",
          "name": "stdout",
          "text": [
            "[[0.0 0.0 0.0 0.0 0.0 0.0 1.0 40.0 72000.0]\n",
            " [0.0 0.0 0.0 0.0 1.0 0.0 0.0 27.0 50000.0]\n",
            " [1.0 0.0 0.0 0.0 0.0 0.0 0.0 35.0 55000.0]\n",
            " [0.0 0.0 0.0 0.0 0.0 1.0 0.0 40.0 63000.0]\n",
            " [0.0 0.0 0.0 1.0 0.0 0.0 0.0 46.0 64888.88888888889]\n",
            " [0.0 1.0 0.0 0.0 0.0 0.0 0.0 35.0 60000.0]\n",
            " [0.0 0.0 1.0 0.0 0.0 0.0 0.0 38.625 52000.0]\n",
            " [0.0 1.0 0.0 0.0 0.0 0.0 0.0 48.0 79000.0]\n",
            " [1.0 0.0 0.0 0.0 0.0 0.0 0.0 38.625 85000.0]\n",
            " [0.0 0.0 0.0 0.0 0.0 1.0 0.0 38.0 68000.0]]\n"
          ]
        }
      ]
    },
    {
      "cell_type": "code",
      "source": [
        "from sklearn.preprocessing import LabelEncoder\n",
        "le = LabelEncoder()\n",
        "Y = le.fit_transform(Y)"
      ],
      "metadata": {
        "id": "ki9C1BWADpey"
      },
      "execution_count": 37,
      "outputs": []
    },
    {
      "cell_type": "code",
      "source": [
        "print(Y)"
      ],
      "metadata": {
        "colab": {
          "base_uri": "https://localhost:8080/"
        },
        "id": "nLdt5x4PEBsm",
        "outputId": "410aa148-bf77-4e70-dcc8-789fb12dcc7a"
      },
      "execution_count": 38,
      "outputs": [
        {
          "output_type": "stream",
          "name": "stdout",
          "text": [
            "[1 1 0 0 1 1 0 1 0 1]\n"
          ]
        }
      ]
    },
    {
      "cell_type": "code",
      "source": [
        "from sklearn.model_selection import train_test_split\n",
        "X_train, X_test, Y_train, Y_test = train_test_split(X, Y, test_size = 0.2, random_state = 1)\n"
      ],
      "metadata": {
        "id": "J4_8F9qOEIdA"
      },
      "execution_count": 39,
      "outputs": []
    },
    {
      "cell_type": "code",
      "source": [
        "print(X_train)"
      ],
      "metadata": {
        "colab": {
          "base_uri": "https://localhost:8080/"
        },
        "id": "eZPJAUqrEtim",
        "outputId": "4dde9277-38ea-4055-c320-4f950227ca57"
      },
      "execution_count": 40,
      "outputs": [
        {
          "output_type": "stream",
          "name": "stdout",
          "text": [
            "[[0.0 0.0 1.0 0.0 0.0 0.0 0.0 38.625 52000.0]\n",
            " [0.0 0.0 0.0 1.0 0.0 0.0 0.0 46.0 64888.88888888889]\n",
            " [0.0 0.0 0.0 0.0 0.0 0.0 1.0 40.0 72000.0]\n",
            " [0.0 0.0 0.0 0.0 0.0 1.0 0.0 40.0 63000.0]\n",
            " [0.0 0.0 0.0 0.0 1.0 0.0 0.0 27.0 50000.0]\n",
            " [0.0 1.0 0.0 0.0 0.0 0.0 0.0 48.0 79000.0]\n",
            " [1.0 0.0 0.0 0.0 0.0 0.0 0.0 38.625 85000.0]\n",
            " [0.0 1.0 0.0 0.0 0.0 0.0 0.0 35.0 60000.0]]\n"
          ]
        }
      ]
    },
    {
      "cell_type": "code",
      "source": [
        "print(X_test)"
      ],
      "metadata": {
        "colab": {
          "base_uri": "https://localhost:8080/"
        },
        "id": "1Ozqvf7gE6m-",
        "outputId": "3014d880-219a-4142-af6d-4402a9da25db"
      },
      "execution_count": 41,
      "outputs": [
        {
          "output_type": "stream",
          "name": "stdout",
          "text": [
            "[[1.0 0.0 0.0 0.0 0.0 0.0 0.0 35.0 55000.0]\n",
            " [0.0 0.0 0.0 0.0 0.0 1.0 0.0 38.0 68000.0]]\n"
          ]
        }
      ]
    },
    {
      "cell_type": "code",
      "source": [
        "print(Y_train)"
      ],
      "metadata": {
        "colab": {
          "base_uri": "https://localhost:8080/"
        },
        "id": "JcOSnHcUFApa",
        "outputId": "d5cb6928-faae-48ca-b9d2-08b5c7bdad3a"
      },
      "execution_count": 42,
      "outputs": [
        {
          "output_type": "stream",
          "name": "stdout",
          "text": [
            "[0 1 1 0 1 1 0 1]\n"
          ]
        }
      ]
    },
    {
      "cell_type": "code",
      "source": [
        "print(Y_test)"
      ],
      "metadata": {
        "colab": {
          "base_uri": "https://localhost:8080/"
        },
        "id": "EsJj5r6LFF5n",
        "outputId": "b53c6808-0641-40be-b866-467430a593a4"
      },
      "execution_count": 43,
      "outputs": [
        {
          "output_type": "stream",
          "name": "stdout",
          "text": [
            "[0 1]\n"
          ]
        }
      ]
    },
    {
      "cell_type": "code",
      "source": [
        "from sklearn.preprocessing import StandardScaler\n",
        "sc = StandardScaler()\n",
        "X_train[:, 3:] = sc.fit_transform(X_train[:, 3:])\n",
        "X_test[:, 3:] = sc.transform(X_test[:, 3:])"
      ],
      "metadata": {
        "id": "NttKCcAgFMwz"
      },
      "execution_count": 44,
      "outputs": []
    },
    {
      "cell_type": "code",
      "source": [
        "print(X_train)"
      ],
      "metadata": {
        "colab": {
          "base_uri": "https://localhost:8080/"
        },
        "id": "J2H5QggfFu4-",
        "outputId": "0e250be8-fd95-4658-c929-de5d9c6bc09a"
      },
      "execution_count": 45,
      "outputs": [
        {
          "output_type": "stream",
          "name": "stdout",
          "text": [
            "[[0.0 0.0 1.0 -0.3779644730092272 -0.3779644730092272 -0.3779644730092272\n",
            "  -0.3779644730092272 -0.08792018887394243 -1.1912524548613261]\n",
            " [0.0 0.0 0.0 2.6457513110645903 -0.3779644730092272 -0.3779644730092272\n",
            "  -0.3779644730092272 1.132618903729023 -0.07347462057284189]\n",
            " [0.0 0.0 0.0 -0.3779644730092272 -0.3779644730092272 -0.3779644730092272\n",
            "  2.6457513110645903 0.13963794703508503 0.5432303914483906]\n",
            " [0.0 0.0 0.0 -0.3779644730092272 -0.3779644730092272 2.6457513110645903\n",
            "  -0.3779644730092272 0.13963794703508503 -0.23728688939098194]\n",
            " [0.0 0.0 0.0 -0.3779644730092272 2.6457513110645903 -0.3779644730092272\n",
            "  -0.3779644730092272 -2.0118207924684475 -1.3647007394922979]\n",
            " [0.0 1.0 0.0 -0.3779644730092272 -0.3779644730092272 -0.3779644730092272\n",
            "  -0.3779644730092272 1.463612555960336 1.1502993876567915]\n",
            " [1.0 0.0 0.0 -0.3779644730092272 -0.3779644730092272 -0.3779644730092272\n",
            "  -0.3779644730092272 -0.08792018887394243 1.6706442415497065]\n",
            " [0.0 1.0 0.0 -0.3779644730092272 -0.3779644730092272 -0.3779644730092272\n",
            "  -0.3779644730092272 -0.6878461835431967 -0.49745931633743945]]\n"
          ]
        }
      ]
    },
    {
      "cell_type": "code",
      "source": [
        "print(X_test)"
      ],
      "metadata": {
        "colab": {
          "base_uri": "https://localhost:8080/"
        },
        "id": "Z1Lc75RyFzom",
        "outputId": "ba553a2e-6b2b-42d8-bba1-73d8a5887649"
      },
      "execution_count": 47,
      "outputs": [
        {
          "output_type": "stream",
          "name": "stdout",
          "text": [
            "[[1.0 0.0 0.0 -0.3779644730092272 -0.3779644730092272 -0.3779644730092272\n",
            "  -0.3779644730092272 -0.6878461835431967 -0.9310800279148687]\n",
            " [0.0 0.0 0.0 -0.3779644730092272 -0.3779644730092272 2.6457513110645903\n",
            "  -0.3779644730092272 -0.19135570519622766 0.19633382218644724]]\n"
          ]
        }
      ]
    },
    {
      "cell_type": "markdown",
      "source": [
        "# New Section"
      ],
      "metadata": {
        "id": "KlS5n9qBmSVV"
      }
    }
  ]
}